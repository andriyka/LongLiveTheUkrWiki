{
 "cells": [
  {
   "cell_type": "code",
   "execution_count": 1,
   "metadata": {},
   "outputs": [],
   "source": [
    "#In PAWS\n",
    "\n",
    "from sqlalchemy import create_engine\n",
    "import sys, os\n",
    "import pandas as pd\n",
    "constr = 'mysql+pymysql://{user}:{pwd}@{host}'.format(user=os.environ['MYSQL_USERNAME'],pwd=os.environ['MYSQL_PASSWORD'],host=os.environ['MYSQL_HOST'])\n",
    "con = create_engine(constr)\n"
   ]
  },
  {
   "cell_type": "code",
   "execution_count": null,
   "metadata": {},
   "outputs": [],
   "source": [
    "q_en_uk = \"\"\"\n",
    "SELECT  \n",
    "    en.ips_item_id as id\n",
    "    ,uk.ips_site_page as uk_page_title\n",
    "    ,en.ips_site_page as en_page_title\n",
    "    ,p.page_id as en_page_id\n",
    "    ,cast(min(r.rev_timestamp) as DATETIME) as en_first_rev \n",
    "FROM \n",
    "    wikidatawiki_p.wb_items_per_site as uk\n",
    "join wikidatawiki_p.wb_items_per_site as en\n",
    "    on uk.ips_item_id = en.ips_item_id\n",
    "    and uk.ips_site_id= 'ukwiki'  \n",
    "    and en.ips_site_id = 'enwiki'  \n",
    "join enwiki_p.page as p\n",
    "    on p.page_title = en.ips_site_page\n",
    "join enwiki_p.revision as r \n",
    "    on r.rev_page = p.page_id\n",
    "    and r.rev_parent_id = 0\n",
    "group by\n",
    "    en.ips_item_id\n",
    "    ,uk.ips_site_page\n",
    "    ,en.ips_site_page\n",
    "    ,p.page_id\n",
    "\"\"\"\n",
    "d_en_uk = pd.read_sql(q_en_uk, con)\n",
    "print(d_en_uk.shape)\n",
    "d_en_uk.head(5)"
   ]
  },
  {
   "cell_type": "code",
   "execution_count": null,
   "metadata": {},
   "outputs": [],
   "source": [
    "d_en_uk.to_csv(\"en_uk.csv\")"
   ]
  },
  {
   "cell_type": "code",
   "execution_count": null,
   "metadata": {},
   "outputs": [],
   "source": [
    "q_uk = \"\"\"\n",
    "SELECT  \n",
    "    uk.ips_item_id as uk_page_title\n",
    "    ,p.page_id as uk_page_id\n",
    "FROM \n",
    "    wikidatawiki_p.wb_items_per_site as uk\n",
    "join ukwiki_p.page as p\n",
    "    on p.page_title = uk.ips_site_page\n",
    "\"\"\"\n",
    "d_uk = pd.read_sql(q_uk, con)\n",
    "print(d_uk.shape)\n",
    "d_uk.head(5)"
   ]
  },
  {
   "cell_type": "code",
   "execution_count": 2,
   "metadata": {},
   "outputs": [],
   "source": [
    "q_uk_incoming_links = \"\"\"\n",
    "select \n",
    "    pl.pl_title as uk_page_title\n",
    "    ,count(*) as uk_incoming_links\n",
    "from \n",
    "    ukwiki_p.pagelinks as pl\n",
    "group by \n",
    "    pl.pl_title\n",
    "    \"\"\"\n",
    "d_uk_incoming_links = pd.read_sql(q_uk_incoming_links, con)\n",
    "d_uk_incoming_links['uk_page_title'] = d_uk_incoming_links['uk_page_title'].str.decode('utf-8')\n",
    "d_uk_incoming_links.to_csv(\"uk_incoming_links.csv\")"
   ]
  },
  {
   "cell_type": "code",
   "execution_count": null,
   "metadata": {},
   "outputs": [],
   "source": [
    "q_uk_outcoming_links = \"\"\"\n",
    "select \n",
    "    pl.pl_from as uk_page_id\n",
    "    ,count(*) as uk_outcoming_links\n",
    "from \n",
    "    ukwiki_p.pagelinks as pl\n",
    "group by \n",
    "    pl.pl_from\n",
    "    \"\"\"\n",
    "d_uk_outcoming_links = pd.read_sql(q_uk_outcoming_links, con)\n",
    "d_uk_outcoming_links.to_csv(\"uk_outcoming_links.csv\")"
   ]
  },
  {
   "cell_type": "code",
   "execution_count": null,
   "metadata": {},
   "outputs": [],
   "source": [
    "df_en_names.head()"
   ]
  },
  {
   "cell_type": "code",
   "execution_count": null,
   "metadata": {},
   "outputs": [],
   "source": [
    "q_en_names = \"\"\"\n",
    "select \n",
    "    p.page_id as en_page_id\n",
    "    ,p.page_title as en_page_title\n",
    "from \n",
    "    enwiki_p.page p \n",
    "where\n",
    "    p.page_namespace=0\n",
    "    \"\"\"\n",
    "df_en_names = pd.read_sql(q_en_names, con)\n",
    "df_en_names['uk_page_title'] = df_en_names['uk_page_title'].str.decode('utf-8')\n",
    "df_en_names.to_csv(\"en.csv\")"
   ]
  },
  {
   "cell_type": "code",
   "execution_count": null,
   "metadata": {},
   "outputs": [],
   "source": [
    "q_uk = \"\"\"\n",
    "SELECT uk.page_id as uk_page_id,\n",
    "       uk.page_title as uk_page_title\n",
    "from ukwiki_p.page as uk\n",
    "where page_namespace=0\n",
    "\"\"\"\n",
    "df_uk = pd.read_sql(q_uk, con)\n",
    "df_uk['uk_page_title'] = df_uk['uk_page_title'].str.decode('utf-8')\n",
    "df_uk.to_csv(\"uk.csv\")"
   ]
  },
  {
   "cell_type": "code",
   "execution_count": null,
   "metadata": {},
   "outputs": [],
   "source": [
    "pr.read_csv('')"
   ]
  },
  {
   "cell_type": "code",
   "execution_count": null,
   "metadata": {},
   "outputs": [],
   "source": [
    "q_en_revisions3 = \"\"\"\n",
    "SELECT r.rev_page as en_page_id,\n",
    "       cast(r.rev_timestamp as DATETIME) as en_first_edit\n",
    "from \n",
    "    enwiki_p.revision as r \n",
    "where \n",
    "    r.rev_parent_id=0\n",
    "LIMIT 15000000 OFFSET 30000000\n",
    "\"\"\"\n",
    "df_en_revisions3 = pd.read_sql(q_en_revisions3, con)\n",
    "df_en_revisions3['uk_page_title'] = df_en_revisions3['uk_page_title'].str.decode('utf-8')\n",
    "df_en_revisions3.to_csv(\"en_revisions3.csv\")\n",
    "df_en_revisions3.shape"
   ]
  },
  {
   "cell_type": "code",
   "execution_count": 5,
   "metadata": {},
   "outputs": [
    {
     "data": {
      "text/html": [
       "<div>\n",
       "<style scoped>\n",
       "    .dataframe tbody tr th:only-of-type {\n",
       "        vertical-align: middle;\n",
       "    }\n",
       "\n",
       "    .dataframe tbody tr th {\n",
       "        vertical-align: top;\n",
       "    }\n",
       "\n",
       "    .dataframe thead th {\n",
       "        text-align: right;\n",
       "    }\n",
       "</style>\n",
       "<table border=\"1\" class=\"dataframe\">\n",
       "  <thead>\n",
       "    <tr style=\"text-align: right;\">\n",
       "      <th></th>\n",
       "      <th>en_page_id</th>\n",
       "      <th>en_first_edit</th>\n",
       "    </tr>\n",
       "  </thead>\n",
       "  <tbody>\n",
       "    <tr>\n",
       "      <th>0</th>\n",
       "      <td>40064074</td>\n",
       "      <td>2013-07-25 05:39:02</td>\n",
       "    </tr>\n",
       "    <tr>\n",
       "      <th>1</th>\n",
       "      <td>40064075</td>\n",
       "      <td>2013-07-25 05:39:04</td>\n",
       "    </tr>\n",
       "    <tr>\n",
       "      <th>2</th>\n",
       "      <td>40064076</td>\n",
       "      <td>2013-07-25 05:39:07</td>\n",
       "    </tr>\n",
       "    <tr>\n",
       "      <th>3</th>\n",
       "      <td>40064077</td>\n",
       "      <td>2013-07-25 05:39:10</td>\n",
       "    </tr>\n",
       "    <tr>\n",
       "      <th>4</th>\n",
       "      <td>40064078</td>\n",
       "      <td>2013-07-25 05:39:13</td>\n",
       "    </tr>\n",
       "  </tbody>\n",
       "</table>\n",
       "</div>"
      ],
      "text/plain": [
       "   en_page_id       en_first_edit\n",
       "0    40064074 2013-07-25 05:39:02\n",
       "1    40064075 2013-07-25 05:39:04\n",
       "2    40064076 2013-07-25 05:39:07\n",
       "3    40064077 2013-07-25 05:39:10\n",
       "4    40064078 2013-07-25 05:39:13"
      ]
     },
     "execution_count": 5,
     "metadata": {},
     "output_type": "execute_result"
    }
   ],
   "source": [
    "df_en_revisions3.head()"
   ]
  },
  {
   "cell_type": "code",
   "execution_count": 2,
   "metadata": {},
   "outputs": [
    {
     "data": {
      "text/plain": [
       "(15000000, 2)"
      ]
     },
     "execution_count": 2,
     "metadata": {},
     "output_type": "execute_result"
    }
   ],
   "source": [
    "q_en_revisions2 = \"\"\"\n",
    "SELECT r.rev_page as en_page_id,\n",
    "       cast(r.rev_timestamp as DATETIME) as en_first_edit\n",
    "from \n",
    "    enwiki_p.revision as r \n",
    "where \n",
    "    r.rev_parent_id=0\n",
    "LIMIT 15000000 OFFSET 15000000\n",
    "\"\"\"\n",
    "df_en_revisions2 = pd.read_sql(q_en_revisions2, con)\n",
    "df_en_revisions2.to_csv(\"en_revisions2.csv\")\n",
    "df_en_revisions2.shape"
   ]
  },
  {
   "cell_type": "code",
   "execution_count": null,
   "metadata": {},
   "outputs": [],
   "source": []
  }
 ],
 "metadata": {
  "kernelspec": {
   "display_name": "Python 3",
   "language": "python",
   "name": "python3"
  },
  "language_info": {
   "codemirror_mode": {
    "name": "ipython",
    "version": 3
   },
   "file_extension": ".py",
   "mimetype": "text/x-python",
   "name": "python",
   "nbconvert_exporter": "python",
   "pygments_lexer": "ipython3",
   "version": "3.6.3"
  }
 },
 "nbformat": 4,
 "nbformat_minor": 2
}
