{
 "cells": [
  {
   "cell_type": "code",
   "execution_count": 1,
   "metadata": {},
   "outputs": [],
   "source": [
    "#In PAWS\n",
    "from sqlalchemy import create_engine\n",
    "import sys, os\n",
    "import pandas as pd\n",
    "constr = 'mysql+pymysql://{user}:{pwd}@{host}'.format(user=os.environ['MYSQL_USERNAME'],pwd=os.environ['MYSQL_PASSWORD'],host=os.environ['MYSQL_HOST'])\n",
    "con = create_engine(constr)\n"
   ]
  },
  {
   "cell_type": "code",
   "execution_count": 2,
   "metadata": {},
   "outputs": [],
   "source": [
    "#q3 = \"select  pl.*, p.* from ukwiki_p.pagelinks as pl left join ukwiki_p.page as p on p.page_title = pl.pl_title where p.page_title is Null \"\n",
    "#q4 = \"SELECT  ips_item_id AS wikidata, ips_site_page AS title FROM wikidatawiki_p.wb_items_per_site WHERE ips_site_id= 'ukwiki' AND  ips_item_id  NOT IN (SELECT ips_item_id FROM wikidatawiki_p.wb_items_per_site WHERE ips_site_id= 'enwiki') LIMIT 1000000;\"\n",
    "#df3 = pd.read_sql(q3, con)"
   ]
  },
  {
   "cell_type": "markdown",
   "metadata": {},
   "source": [
    "## Revisions data collection"
   ]
  },
  {
   "cell_type": "code",
   "execution_count": 3,
   "metadata": {},
   "outputs": [],
   "source": [
    "q_uk_revisions = \"\"\"\n",
    "select \n",
    "    r.rev_page as uk_page_id\n",
    "    ,cast(min(r.rev_timestamp) as DATETIME) as uk_first_edit \n",
    "    ,cast(max(r.rev_timestamp) as DATETIME) as uk_last_edit\n",
    "    ,count(*) as uk_revisions_count\n",
    "    ,sum(r.rev_minor_edit) as uk_minor_revisions\n",
    "    ,sum(case when r.rev_deleted = 1 then 1 else 0 end) as uk_deleted_revisions\n",
    "from \n",
    "    ukwiki_p.revision as r \n",
    "group by \n",
    "    r.rev_page \n",
    "\"\"\"\n",
    "df_uk_revisions = pd.read_sql(q_uk_revisions, con)\n",
    "df_uk_revisions.to_csv(\"uk_revisions.csv\")"
   ]
  },
  {
   "cell_type": "code",
   "execution_count": 5,
   "metadata": {},
   "outputs": [],
   "source": [
    "q_uk_ll = \"\"\"\n",
    "select \n",
    "    ll.ll_from as page_id \n",
    "    ,count(*) as langlinks_count \n",
    "from \n",
    "    ukwiki_p.langlinks as ll \n",
    "group by\n",
    "    ll.ll_from \n",
    "    \"\"\"\n",
    "df_uk_ll = pd.read_sql(q_uk_ll, con)\n",
    "df_uk_ll.to_csv(\"ukpages_langlinks.csv\")"
   ]
  },
  {
   "cell_type": "code",
   "execution_count": 36,
   "metadata": {},
   "outputs": [
    {
     "name": "stdout",
     "output_type": "stream",
     "text": [
      "(820222, 2)\n"
     ]
    },
    {
     "data": {
      "text/html": [
       "<div>\n",
       "<style scoped>\n",
       "    .dataframe tbody tr th:only-of-type {\n",
       "        vertical-align: middle;\n",
       "    }\n",
       "\n",
       "    .dataframe tbody tr th {\n",
       "        vertical-align: top;\n",
       "    }\n",
       "\n",
       "    .dataframe thead th {\n",
       "        text-align: right;\n",
       "    }\n",
       "</style>\n",
       "<table border=\"1\" class=\"dataframe\">\n",
       "  <thead>\n",
       "    <tr style=\"text-align: right;\">\n",
       "      <th></th>\n",
       "      <th>page_id</th>\n",
       "      <th>langlinks_count</th>\n",
       "    </tr>\n",
       "  </thead>\n",
       "  <tbody>\n",
       "    <tr>\n",
       "      <th>0</th>\n",
       "      <td>1</td>\n",
       "      <td>4</td>\n",
       "    </tr>\n",
       "    <tr>\n",
       "      <th>1</th>\n",
       "      <td>3</td>\n",
       "      <td>46</td>\n",
       "    </tr>\n",
       "    <tr>\n",
       "      <th>2</th>\n",
       "      <td>13</td>\n",
       "      <td>226</td>\n",
       "    </tr>\n",
       "    <tr>\n",
       "      <th>3</th>\n",
       "      <td>584</td>\n",
       "      <td>178</td>\n",
       "    </tr>\n",
       "    <tr>\n",
       "      <th>4</th>\n",
       "      <td>585</td>\n",
       "      <td>67</td>\n",
       "    </tr>\n",
       "  </tbody>\n",
       "</table>\n",
       "</div>"
      ],
      "text/plain": [
       "   page_id  langlinks_count\n",
       "0        1                4\n",
       "1        3               46\n",
       "2       13              226\n",
       "3      584              178\n",
       "4      585               67"
      ]
     },
     "execution_count": 36,
     "metadata": {},
     "output_type": "execute_result"
    }
   ],
   "source": [
    "print(df_uk_ll.shape)\n",
    "df_uk_ll.head(5)"
   ]
  },
  {
   "cell_type": "code",
   "execution_count": null,
   "metadata": {},
   "outputs": [],
   "source": [
    "# q_uk_all_links = \"\"\"\n",
    "# select \n",
    "#     pl.pl_from as from_id\n",
    "#     ,p.page_id as to_id\n",
    "#     ,case when p.page_title is null then 'red' else 'blue' end as link_type\n",
    "# from \n",
    "#     ukwiki_p.pagelinks as pl \n",
    "# left join ukwiki_p.page p \n",
    "#     on p.page_title = pl.pl_title\n",
    "#     \"\"\"\n",
    "# df_uk_all_links = pd.read_sql(q_uk_all_links, con)\n",
    "# df_uk_all_links.to_csv(\"ukpages_all_links.csv\")"
   ]
  },
  {
   "cell_type": "code",
   "execution_count": null,
   "metadata": {},
   "outputs": [],
   "source": [
    "# df_uk_name.head(5)"
   ]
  },
  {
   "cell_type": "code",
   "execution_count": 17,
   "metadata": {},
   "outputs": [],
   "source": [
    "# q_uk_links_agg = \"\"\"\n",
    "# select \n",
    "#     pl.pl_from as from_ida\n",
    "#     ,case when p.page_title is null then 'red' else 'blue' end as link_type\n",
    "#     ,count(*) \n",
    "# from \n",
    "#     ukwiki_p.pagelinks as pl\n",
    "# left join ukwiki_p.page p \n",
    "#     on p.page_title = pl.pl_title \n",
    "# group by \n",
    "#     pl.pl_from\n",
    "#     ,case when p.page_title is null then 'red' else 'blue' end\n",
    "#     \"\"\"\n",
    "# df_uk_links_agg = pd.read_sql(q_uk_links_agg, con)\n",
    "# df_uk_links_agg.to_csv(\"ukpages_all_links_agg.csv\")"
   ]
  },
  {
   "cell_type": "code",
   "execution_count": null,
   "metadata": {},
   "outputs": [],
   "source": [
    "# q5 = \"select pl.pl_from as from_id, p1.page_title as from_title, p.page_id as to_id, p.page_title as to_title, case when p.page_title is null then 'red' else 'blue' end as link_type from ukwiki_p.pagelinks as pl left join ukwiki_p.page p on p.page_title = pl.pl_title join ukwiki_p.page p1 on p1.page_id = pl.pl_from\""
   ]
  },
  {
   "cell_type": "code",
   "execution_count": 8,
   "metadata": {},
   "outputs": [],
   "source": [
    "q_uk_names = \"\"\"\n",
    "select \n",
    "    p.page_id as uk_page_id\n",
    "    ,p.page_title as uk_page_title\n",
    "from \n",
    "    ukwiki_p.page p \n",
    "    \"\"\"\n",
    "df_uk_names = pd.read_sql(q_uk_names, con)\n",
    "df_uk_names.to_csv(\"uk.csv\")"
   ]
  },
  {
   "cell_type": "code",
   "execution_count": 37,
   "metadata": {},
   "outputs": [
    {
     "name": "stdout",
     "output_type": "stream",
     "text": [
      "(2416375, 2)\n"
     ]
    },
    {
     "data": {
      "text/html": [
       "<div>\n",
       "<style scoped>\n",
       "    .dataframe tbody tr th:only-of-type {\n",
       "        vertical-align: middle;\n",
       "    }\n",
       "\n",
       "    .dataframe tbody tr th {\n",
       "        vertical-align: top;\n",
       "    }\n",
       "\n",
       "    .dataframe thead th {\n",
       "        text-align: right;\n",
       "    }\n",
       "</style>\n",
       "<table border=\"1\" class=\"dataframe\">\n",
       "  <thead>\n",
       "    <tr style=\"text-align: right;\">\n",
       "      <th></th>\n",
       "      <th>uk_page_id</th>\n",
       "      <th>uk_page_title</th>\n",
       "    </tr>\n",
       "  </thead>\n",
       "  <tbody>\n",
       "    <tr>\n",
       "      <th>0</th>\n",
       "      <td>829961</td>\n",
       "      <td>b'!'</td>\n",
       "    </tr>\n",
       "    <tr>\n",
       "      <th>1</th>\n",
       "      <td>2062457</td>\n",
       "      <td>b'!!'</td>\n",
       "    </tr>\n",
       "    <tr>\n",
       "      <th>2</th>\n",
       "      <td>425480</td>\n",
       "      <td>b'!!!'</td>\n",
       "    </tr>\n",
       "    <tr>\n",
       "      <th>3</th>\n",
       "      <td>2591631</td>\n",
       "      <td>b'!!!Fuck_You!!!_and_Then_Some'</td>\n",
       "    </tr>\n",
       "    <tr>\n",
       "      <th>4</th>\n",
       "      <td>2141483</td>\n",
       "      <td>b'!!_(\\xd0\\xb7\\xd0\\xbd\\xd0\\xb0\\xd1\\x87\\xd0\\xb5...</td>\n",
       "    </tr>\n",
       "  </tbody>\n",
       "</table>\n",
       "</div>"
      ],
      "text/plain": [
       "   uk_page_id                                      uk_page_title\n",
       "0      829961                                               b'!'\n",
       "1     2062457                                              b'!!'\n",
       "2      425480                                             b'!!!'\n",
       "3     2591631                    b'!!!Fuck_You!!!_and_Then_Some'\n",
       "4     2141483  b'!!_(\\xd0\\xb7\\xd0\\xbd\\xd0\\xb0\\xd1\\x87\\xd0\\xb5..."
      ]
     },
     "execution_count": 37,
     "metadata": {},
     "output_type": "execute_result"
    }
   ],
   "source": [
    "print(df_uk_names.shape)\n",
    "df_uk_names.head(5)"
   ]
  },
  {
   "cell_type": "code",
   "execution_count": 29,
   "metadata": {},
   "outputs": [],
   "source": [
    "q_uk_outlinks_agg = \"\"\"\n",
    "select \n",
    "    pl.pl_from as from_id\n",
    "    ,count(*) as all_out_links\n",
    "from \n",
    "    ukwiki_p.pagelinks as pl\n",
    "group by \n",
    "    pl.pl_from\n",
    "    \"\"\"\n",
    "df_uk_outlinks_agg = pd.read_sql(q_uk_outlinks_agg, con)\n",
    "df_uk_outlinks_agg.to_csv(\"uk_outcoming_links.csv\")"
   ]
  },
  {
   "cell_type": "code",
   "execution_count": 39,
   "metadata": {},
   "outputs": [
    {
     "name": "stdout",
     "output_type": "stream",
     "text": [
      "(2227676, 2)\n"
     ]
    },
    {
     "data": {
      "text/html": [
       "<div>\n",
       "<style scoped>\n",
       "    .dataframe tbody tr th:only-of-type {\n",
       "        vertical-align: middle;\n",
       "    }\n",
       "\n",
       "    .dataframe tbody tr th {\n",
       "        vertical-align: top;\n",
       "    }\n",
       "\n",
       "    .dataframe thead th {\n",
       "        text-align: right;\n",
       "    }\n",
       "</style>\n",
       "<table border=\"1\" class=\"dataframe\">\n",
       "  <thead>\n",
       "    <tr style=\"text-align: right;\">\n",
       "      <th></th>\n",
       "      <th>from_id</th>\n",
       "      <th>all_out_links</th>\n",
       "    </tr>\n",
       "  </thead>\n",
       "  <tbody>\n",
       "    <tr>\n",
       "      <th>0</th>\n",
       "      <td>1</td>\n",
       "      <td>18</td>\n",
       "    </tr>\n",
       "    <tr>\n",
       "      <th>1</th>\n",
       "      <td>2</td>\n",
       "      <td>1</td>\n",
       "    </tr>\n",
       "    <tr>\n",
       "      <th>2</th>\n",
       "      <td>3</td>\n",
       "      <td>298</td>\n",
       "    </tr>\n",
       "    <tr>\n",
       "      <th>3</th>\n",
       "      <td>4</td>\n",
       "      <td>69</td>\n",
       "    </tr>\n",
       "    <tr>\n",
       "      <th>4</th>\n",
       "      <td>6</td>\n",
       "      <td>1</td>\n",
       "    </tr>\n",
       "  </tbody>\n",
       "</table>\n",
       "</div>"
      ],
      "text/plain": [
       "   from_id  all_out_links\n",
       "0        1             18\n",
       "1        2              1\n",
       "2        3            298\n",
       "3        4             69\n",
       "4        6              1"
      ]
     },
     "execution_count": 39,
     "metadata": {},
     "output_type": "execute_result"
    }
   ],
   "source": [
    "print(df_uk_outlinks_agg.shape)\n",
    "df_uk_outlinks_agg.head(5)"
   ]
  },
  {
   "cell_type": "code",
   "execution_count": 31,
   "metadata": {},
   "outputs": [],
   "source": [
    "q_uk_inlinks_agg = \"\"\"\n",
    "select \n",
    "    pl.pl_title as page_title\n",
    "    ,count(*) as all_in_links\n",
    "from \n",
    "    ukwiki_p.pagelinks as pl\n",
    "group by \n",
    "    pl.pl_title\n",
    "    \"\"\"\n",
    "df_uk_inlinks_agg = pd.read_sql(q_uk_inlinks_agg, con)\n",
    "df_uk_inlinks_agg.to_csv(\"uk_incoming_links.csv\")"
   ]
  },
  {
   "cell_type": "code",
   "execution_count": 40,
   "metadata": {},
   "outputs": [
    {
     "name": "stdout",
     "output_type": "stream",
     "text": [
      "(3849906, 2)\n"
     ]
    },
    {
     "data": {
      "text/html": [
       "<div>\n",
       "<style scoped>\n",
       "    .dataframe tbody tr th:only-of-type {\n",
       "        vertical-align: middle;\n",
       "    }\n",
       "\n",
       "    .dataframe tbody tr th {\n",
       "        vertical-align: top;\n",
       "    }\n",
       "\n",
       "    .dataframe thead th {\n",
       "        text-align: right;\n",
       "    }\n",
       "</style>\n",
       "<table border=\"1\" class=\"dataframe\">\n",
       "  <thead>\n",
       "    <tr style=\"text-align: right;\">\n",
       "      <th></th>\n",
       "      <th>page_title</th>\n",
       "      <th>all_in_links</th>\n",
       "    </tr>\n",
       "  </thead>\n",
       "  <tbody>\n",
       "    <tr>\n",
       "      <th>0</th>\n",
       "      <td>b'!'</td>\n",
       "      <td>67</td>\n",
       "    </tr>\n",
       "    <tr>\n",
       "      <th>1</th>\n",
       "      <td>b'!!'</td>\n",
       "      <td>42</td>\n",
       "    </tr>\n",
       "    <tr>\n",
       "      <th>2</th>\n",
       "      <td>b'!!!'</td>\n",
       "      <td>8</td>\n",
       "    </tr>\n",
       "    <tr>\n",
       "      <th>3</th>\n",
       "      <td>b'!!!Fuck_You!!!_and_Then_Some'</td>\n",
       "      <td>3</td>\n",
       "    </tr>\n",
       "    <tr>\n",
       "      <th>4</th>\n",
       "      <td>b'!!!_(\\xd0\\xb0\\xd0\\xbb\\xd1\\x8c\\xd0\\xb1\\xd0\\xb...</td>\n",
       "      <td>1</td>\n",
       "    </tr>\n",
       "  </tbody>\n",
       "</table>\n",
       "</div>"
      ],
      "text/plain": [
       "                                          page_title  all_in_links\n",
       "0                                               b'!'            67\n",
       "1                                              b'!!'            42\n",
       "2                                             b'!!!'             8\n",
       "3                    b'!!!Fuck_You!!!_and_Then_Some'             3\n",
       "4  b'!!!_(\\xd0\\xb0\\xd0\\xbb\\xd1\\x8c\\xd0\\xb1\\xd0\\xb...             1"
      ]
     },
     "execution_count": 40,
     "metadata": {},
     "output_type": "execute_result"
    }
   ],
   "source": [
    "print(df_uk_inlinks_agg.shape)\n",
    "df_uk_inlinks_agg.head(5)"
   ]
  },
  {
   "cell_type": "code",
   "execution_count": 33,
   "metadata": {},
   "outputs": [],
   "source": [
    "# q_uk_blue_links_agg = \"\"\"\n",
    "# select \n",
    "#     pl.pl_from as from_id\n",
    "#     ,count(*) as blue_links \n",
    "# from \n",
    "#     ukwiki_p.pagelinks  as pl\n",
    "# join \n",
    "# (\n",
    "#     select\n",
    "#         p.p_page_title\n",
    "#     from\n",
    "#         ukwiki_p.page as p \n",
    "# ) p on p.page_title = pl.pl_title \n",
    "# group by \n",
    "#     pl.pl_from\n",
    "# \"\"\"\n",
    "# df_uk_blue_links_agg = pd.read_sql(q_uk_blue_links_agg, con)\n",
    "# df_uk_blue_links_agg.to_csv(\"ukpages_blue_links_agg.csv\")"
   ]
  },
  {
   "cell_type": "code",
   "execution_count": 26,
   "metadata": {},
   "outputs": [],
   "source": [
    "q_uk_blue_trans_links_agg = \"\"\"\n",
    "select \n",
    "    pl.pl_from as from_id\n",
    "    ,count(*) as blue__links \n",
    "from \n",
    "    ukwiki_p.pagelinks as pl\n",
    "join ukwiki_p.page p \n",
    "    on p.page_id = pl.pl_from\n",
    "join\n",
    "(\n",
    "SELECT  \n",
    "    ips_item_id AS wikidata\n",
    "    , ips_site_page AS title \n",
    "FROM \n",
    "    wikidatawiki_p.wb_items_per_site \n",
    "WHERE \n",
    "    ips_site_id= 'ukwiki' \n",
    "    AND  ips_item_id IN (SELECT ips_item_id FROM wikidatawiki_p.wb_items_per_site WHERE ips_site_id= 'enwiki')\n",
    ") en_titles\n",
    "    on p.page_title = en_titles.title\n",
    "group by \n",
    "    pl.pl_from\n",
    "\"\"\"\n",
    "df_uk_blue_trans_links_agg = pd.read_sql(q_uk_blue_trans_links_agg, con)\n",
    "df_uk_blue_trans_links_agg.to_csv(\"uk_outcoming_links_translated.csv\")"
   ]
  },
  {
   "cell_type": "code",
   "execution_count": 41,
   "metadata": {},
   "outputs": [
    {
     "name": "stdout",
     "output_type": "stream",
     "text": [
      "(261460, 2)\n"
     ]
    },
    {
     "data": {
      "text/html": [
       "<div>\n",
       "<style scoped>\n",
       "    .dataframe tbody tr th:only-of-type {\n",
       "        vertical-align: middle;\n",
       "    }\n",
       "\n",
       "    .dataframe tbody tr th {\n",
       "        vertical-align: top;\n",
       "    }\n",
       "\n",
       "    .dataframe thead th {\n",
       "        text-align: right;\n",
       "    }\n",
       "</style>\n",
       "<table border=\"1\" class=\"dataframe\">\n",
       "  <thead>\n",
       "    <tr style=\"text-align: right;\">\n",
       "      <th></th>\n",
       "      <th>from_id</th>\n",
       "      <th>blue_links</th>\n",
       "    </tr>\n",
       "  </thead>\n",
       "  <tbody>\n",
       "    <tr>\n",
       "      <th>0</th>\n",
       "      <td>13</td>\n",
       "      <td>204</td>\n",
       "    </tr>\n",
       "    <tr>\n",
       "      <th>1</th>\n",
       "      <td>584</td>\n",
       "      <td>372</td>\n",
       "    </tr>\n",
       "    <tr>\n",
       "      <th>2</th>\n",
       "      <td>585</td>\n",
       "      <td>29</td>\n",
       "    </tr>\n",
       "    <tr>\n",
       "      <th>3</th>\n",
       "      <td>587</td>\n",
       "      <td>14</td>\n",
       "    </tr>\n",
       "    <tr>\n",
       "      <th>4</th>\n",
       "      <td>588</td>\n",
       "      <td>419</td>\n",
       "    </tr>\n",
       "  </tbody>\n",
       "</table>\n",
       "</div>"
      ],
      "text/plain": [
       "   from_id  blue_links\n",
       "0       13         204\n",
       "1      584         372\n",
       "2      585          29\n",
       "3      587          14\n",
       "4      588         419"
      ]
     },
     "execution_count": 41,
     "metadata": {},
     "output_type": "execute_result"
    }
   ],
   "source": [
    "print(df_uk_blue_trans_links_agg.shape)\n",
    "df_uk_blue_trans_links_agg.head(5)"
   ]
  },
  {
   "cell_type": "code",
   "execution_count": null,
   "metadata": {},
   "outputs": [],
   "source": [
    "q_uk_langs = \"\"\"\n",
    "\n",
    "SELECT  \n",
    "    uk.ips_site_page AS page_title \n",
    "    ,count(*) as translations\n",
    "FROM \n",
    "    wikidatawiki_p.wb_items_per_site as uk\n",
    "join wikidatawiki_p.wb_items_per_site as en\n",
    "    on uk.ips_site_id= 'ukwiki'  \n",
    "    and en.ips_site_id <> 'ukwiki'  \n",
    "group by \n",
    "    uk.ips_site_page\n",
    "\"\"\"\n",
    "df_uk_langs = pd.read_sql(q_uk_langs, con)\n",
    "df_uk_langs.to_csv(\"ukpages_langs.csv\")"
   ]
  },
  {
   "cell_type": "code",
   "execution_count": null,
   "metadata": {},
   "outputs": [],
   "source": []
  }
 ],
 "metadata": {
  "kernelspec": {
   "display_name": "Python 3",
   "language": "python",
   "name": "python3"
  },
  "language_info": {
   "codemirror_mode": {
    "name": "ipython",
    "version": 3
   },
   "file_extension": ".py",
   "mimetype": "text/x-python",
   "name": "python",
   "nbconvert_exporter": "python",
   "pygments_lexer": "ipython3",
   "version": "3.6.3"
  }
 },
 "nbformat": 4,
 "nbformat_minor": 2
}
