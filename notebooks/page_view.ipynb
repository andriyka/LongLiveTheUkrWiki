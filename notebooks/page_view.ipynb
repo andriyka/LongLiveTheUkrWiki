{
 "cells": [
  {
   "cell_type": "code",
   "execution_count": null,
   "metadata": {},
   "outputs": [],
   "source": [
    "import urllib \n",
    "import json\n",
    "import pandas as pd"
   ]
  },
  {
   "cell_type": "code",
   "execution_count": null,
   "metadata": {},
   "outputs": [],
   "source": [
    "def monthPageView(page, start, end, project):\n",
    "    base_url= 'https://wikimedia.org/api/rest_v1/metrics/pageviews/per-article/%s/all-access/all-agents/%s/monthly/%s/%s' % (project, page, start, end)\n",
    "    data = urllib.request.urlopen(base_url)    \n",
    "    dataJson = json.loads(data.read().decode('utf-8'))['items']\n",
    "    df = pd.DataFrame(dataJson)[['timestamp', 'views']]\n",
    "    df = df.rename(columns={'views': '{}_{}'.format(page, 'views')})\n",
    "    df['timestamp'] = pd.to_datetime(df['timestamp'], format='%Y%m%d%H')\n",
    "    return df"
   ]
  },
  {
   "cell_type": "code",
   "execution_count": null,
   "metadata": {},
   "outputs": [],
   "source": [
    "def monthPagesView(pages, start, end, project):\n",
    "    result_df = None\n",
    "    for page in pages:\n",
    "        df = monthPageView(page, start, end, project)\n",
    "        if result_df is None:\n",
    "            result_df = df\n",
    "        else:\n",
    "            result_df = pd.merge(result_df, df, on='timestamp')\n",
    "    return result_df\n",
    "        "
   ]
  },
  {
   "cell_type": "code",
   "execution_count": null,
   "metadata": {},
   "outputs": [],
   "source": [
    "res = monthPagesView(['Colo_Colo', 'Lionel_Messi', 'Avengers:_Infinity_War'],'2017010100','2018040300','en.wikipedia')"
   ]
  },
  {
   "cell_type": "code",
   "execution_count": null,
   "metadata": {},
   "outputs": [],
   "source": [
    "# return top 1000\n",
    "def getMostPopularForMonth(project, year, month):\n",
    "    base_url = 'https://wikimedia.org/api/rest_v1/metrics/pageviews/top/%s/all-access/%s/%s/all-days' % (project, year, month)\n",
    "    data = urllib.request.urlopen(base_url)\n",
    "    dataJson = json.loads(data.read().decode('utf-8'))['items'][0]['articles']\n",
    "    df = pd.DataFrame(dataJson).set_index('rank')\n",
    "    return df\n",
    "    "
   ]
  },
  {
   "cell_type": "code",
   "execution_count": null,
   "metadata": {},
   "outputs": [],
   "source": [
    "a = getMostPopularForMonth('en.wikipedia', '2018', '01')"
   ]
  }
 ],
 "metadata": {
  "kernelspec": {
   "display_name": "Python 3",
   "language": "python",
   "name": "python3"
  },
  "language_info": {
   "codemirror_mode": {
    "name": "ipython",
    "version": 3
   },
   "file_extension": ".py",
   "mimetype": "text/x-python",
   "name": "python",
   "nbconvert_exporter": "python",
   "pygments_lexer": "ipython3",
   "version": "3.6.4"
  }
 },
 "nbformat": 4,
 "nbformat_minor": 2
}
