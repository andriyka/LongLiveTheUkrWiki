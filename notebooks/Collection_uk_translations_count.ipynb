{
 "cells": [
  {
   "cell_type": "code",
   "execution_count": 1,
   "metadata": {},
   "outputs": [],
   "source": [
    "#In PAWS\n",
    "from sqlalchemy import create_engine\n",
    "import sys, os\n",
    "import pandas as pd\n",
    "constr = 'mysql+pymysql://{user}:{pwd}@{host}'.format(user=os.environ['MYSQL_USERNAME'],pwd=os.environ['MYSQL_PASSWORD'],host=os.environ['MYSQL_HOST'])\n",
    "con = create_engine(constr)\n"
   ]
  },
  {
   "cell_type": "code",
   "execution_count": 3,
   "metadata": {},
   "outputs": [],
   "source": [
    "q_en_uk = \"\"\"\n",
    "SELECT  \n",
    "    uk.ips_site_page as uk_page_title\n",
    "    ,count(*)-1 as uk_translations_count\n",
    "FROM \n",
    "    wikidatawiki_p.wb_items_per_site as uk\n",
    "join wikidatawiki_p.wb_items_per_site as any_lang\n",
    "    on uk.ips_item_id = any_lang.ips_item_id\n",
    "    and uk.ips_site_id= 'ukwiki'\n",
    "    and any_lang.ips_site_id like '__wiki'\n",
    "group by\n",
    "    any_lang.ips_item_id\n",
    "    ,uk.ips_site_page\n",
    "\"\"\"\n",
    "d_en_uk = pd.read_sql(q_en_uk, con)\n",
    "d_en_uk['uk_page_title'] =d_en_uk['uk_page_title'].str.decode('utf-8')\n",
    "d_en_uk.to_csv(\"uk_translations.csv\")"
   ]
  },
  {
   "cell_type": "code",
   "execution_count": null,
   "metadata": {},
   "outputs": [],
   "source": []
  }
 ],
 "metadata": {
  "kernelspec": {
   "display_name": "Python 3",
   "language": "python",
   "name": "python3"
  },
  "language_info": {
   "codemirror_mode": {
    "name": "ipython",
    "version": 3
   },
   "file_extension": ".py",
   "mimetype": "text/x-python",
   "name": "python",
   "nbconvert_exporter": "python",
   "pygments_lexer": "ipython3",
   "version": "3.6.3"
  }
 },
 "nbformat": 4,
 "nbformat_minor": 2
}
